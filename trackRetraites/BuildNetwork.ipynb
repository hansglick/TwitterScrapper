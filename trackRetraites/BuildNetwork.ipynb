{
 "cells": [
  {
   "cell_type": "code",
   "execution_count": 7,
   "metadata": {},
   "outputs": [],
   "source": [
    "import pandas as pd\n",
    "import json\n",
    "import pickle\n",
    "import os\n",
    "import itertools\n",
    "from ast import literal_eval"
   ]
  },
  {
   "cell_type": "code",
   "execution_count": 8,
   "metadata": {},
   "outputs": [],
   "source": [
    "filename = \"/home/osboxes/proj/twitter/retraite.data\"\n",
    "f = \"%a %b %d %H:%M:%S +0000 %Y\""
   ]
  },
  {
   "cell_type": "code",
   "execution_count": 9,
   "metadata": {},
   "outputs": [],
   "source": [
    "if len(os.listdir(\"/home/osboxes/proj/twitter/trackRetraites\"))>6:\n",
    "    OldErrors = pickle.load(open('/home/osboxes/proj/twitter/trackRetraites/errors.pkl', 'rb'))\n",
    "    OldNtweets = pickle.load(open('/home/osboxes/proj/twitter/trackRetraites/ntweets.pkl', 'rb'))\n",
    "    OldLinksDf = pickle.load(open('/home/osboxes/proj/twitter/trackRetraites/linksdf.pkl', 'rb'))\n",
    "    OldGraphDf = pickle.load(open('/home/osboxes/proj/twitter/trackRetraites/graphdf.pkl', 'rb'))\n",
    "else:\n",
    "    OldNtweets = -1\n",
    "    OldErrors = 0\n",
    "    OldLinksDf = pd.DataFrame()\n",
    "    OldGraphDf = pd.DataFrame()"
   ]
  },
  {
   "cell_type": "code",
   "execution_count": 10,
   "metadata": {},
   "outputs": [
    {
     "name": "stdout",
     "output_type": "stream",
     "text": [
      "0\n",
      "16119\n",
      "6123\n",
      "19238\n"
     ]
    }
   ],
   "source": [
    "print(OldErrors)\n",
    "print(OldNtweets)\n",
    "print(len(OldLinksDf))\n",
    "print(len(OldGraphDf))"
   ]
  },
  {
   "cell_type": "code",
   "execution_count": 11,
   "metadata": {},
   "outputs": [],
   "source": [
    "def BuildGraphLinksUser(UserRTList):\n",
    "    UserRTID = [item[0] for item in UserRTList]\n",
    "    UserRTLinks = [pair for pair in itertools.combinations(UserRTID,2)]\n",
    "    return UserRTLinks\n",
    "\n",
    "def BuildGraphLinksDf(df):\n",
    "    RTlist = df.RT.tolist()\n",
    "    GraphLinksDf = []\n",
    "    for UserRTList in RTlist:\n",
    "        GraphLinksDf = GraphLinksDf + BuildGraphLinksUser(UserRTList)\n",
    "    return GraphLinksDf\n",
    "\n",
    "def RetrieveComputer(GraphLinksDf):\n",
    "    compteur = {}\n",
    "    for link in GraphLinksDf:\n",
    "        compteur[link] = compteur.get(link, 0) + 1\n",
    "    return compteur\n",
    "\n",
    "def DefineGraphDf(computer):\n",
    "    GraphComputerDf = pd.DataFrame(data=computer,index=[0]).\\\n",
    "    T.\\\n",
    "    reset_index().\\\n",
    "    rename(columns={\"level_0\": \"A\", \"level_1\": \"B\", 0 : \"f\"})\n",
    "    return GraphComputerDf"
   ]
  },
  {
   "cell_type": "code",
   "execution_count": 12,
   "metadata": {},
   "outputs": [],
   "source": [
    "def RetrieveTweetsFromLastPoint(filename,LineMemorisied):\n",
    "\n",
    "    # Initialisation\n",
    "    maliste = []\n",
    "    errors = 0\n",
    "    ntweets = 0\n",
    "    \n",
    "    # Read New Tweets\n",
    "    with open(filename) as fp:\n",
    "        for line in fp:\n",
    "            ntweets = ntweets + 1 \n",
    "            if ntweets > LineMemorisied:\n",
    "                try:\n",
    "                    maliste.append(literal_eval(line))\n",
    "                except:\n",
    "                    errors = errors + 1\n",
    "\n",
    "    return maliste,errors,ntweets,LineMemorisied"
   ]
  },
  {
   "cell_type": "code",
   "execution_count": 13,
   "metadata": {},
   "outputs": [],
   "source": [
    "maliste,NewErrors,NewNtweets,NewLineMemorisied = RetrieveTweetsFromLastPoint(filename,OldNtweets)"
   ]
  },
  {
   "cell_type": "code",
   "execution_count": 14,
   "metadata": {},
   "outputs": [],
   "source": [
    "tweetsdf = pd.DataFrame(maliste)\n",
    "NewLinksDf = tweetsdf[[\"USERID\",\"AUTHORID\",\"TWEETTIMESTAMP\"]][tweetsdf.AUTHORID != \"\"]\n",
    "NewLinksDf.TWEETTIMESTAMP = pd.to_datetime(NewLinksDf.TWEETTIMESTAMP,format = f, errors='ignore')\n",
    "NewLinksDf.TWEETTIMESTAMP = NewLinksDf.TWEETTIMESTAMP.map(lambda a : a.value // 10**9)\n",
    "NewLinksDf = NewLinksDf.groupby('USERID')[['AUTHORID','TWEETTIMESTAMP']].\\\n",
    "apply(lambda x: [tuple(i) for i in x.values]).\\\n",
    "reset_index(name='RT')"
   ]
  },
  {
   "cell_type": "code",
   "execution_count": 15,
   "metadata": {},
   "outputs": [],
   "source": [
    "GraphLinksDf = BuildGraphLinksDf(NewLinksDf)\n",
    "computer = RetrieveComputer(GraphLinksDf)\n",
    "NewGraphDf = DefineGraphDf(computer)"
   ]
  },
  {
   "cell_type": "code",
   "execution_count": 16,
   "metadata": {},
   "outputs": [],
   "source": [
    "NewLinksDf = OldLinksDf.append(NewLinksDf)\n",
    "NewLinksDf = NewLinksDf.groupby('USERID').RT.apply(sum).reset_index(name='RT')"
   ]
  },
  {
   "cell_type": "code",
   "execution_count": 17,
   "metadata": {},
   "outputs": [],
   "source": [
    "NewGraphDf = OldGraphDf.append(NewGraphDf)\n",
    "NewGraphDf = NewGraphDf.groupby([\"A\",\"B\"]).f.sum().reset_index()"
   ]
  },
  {
   "cell_type": "code",
   "execution_count": 18,
   "metadata": {},
   "outputs": [],
   "source": [
    "pickle.dump(NewErrors + OldErrors, open('/home/osboxes/proj/twitter/trackRetraites/errors.pkl', 'wb'))\n",
    "pickle.dump(NewNtweets, open('/home/osboxes/proj/twitter/trackRetraites/ntweets.pkl', 'wb'))\n",
    "pickle.dump(NewLinksDf, open('/home/osboxes/proj/twitter/trackRetraites/linksdf.pkl', 'wb'))\n",
    "pickle.dump(NewGraphDf, open('/home/osboxes/proj/twitter/trackRetraites/graphdf.pkl', 'wb'))"
   ]
  },
  {
   "cell_type": "code",
   "execution_count": null,
   "metadata": {},
   "outputs": [],
   "source": []
  },
  {
   "cell_type": "code",
   "execution_count": null,
   "metadata": {},
   "outputs": [],
   "source": []
  }
 ],
 "metadata": {
  "kernelspec": {
   "display_name": "twitter",
   "language": "python",
   "name": "twitter"
  },
  "language_info": {
   "codemirror_mode": {
    "name": "ipython",
    "version": 3
   },
   "file_extension": ".py",
   "mimetype": "text/x-python",
   "name": "python",
   "nbconvert_exporter": "python",
   "pygments_lexer": "ipython3",
   "version": "3.6.7"
  }
 },
 "nbformat": 4,
 "nbformat_minor": 2
}
