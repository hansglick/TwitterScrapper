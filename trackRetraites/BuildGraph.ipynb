{
 "cells": [
  {
   "cell_type": "code",
   "execution_count": 4,
   "metadata": {},
   "outputs": [],
   "source": [
    "import pandas as pd\n",
    "import pickle\n",
    "import itertools\n",
    "from ast import literal_eval"
   ]
  },
  {
   "cell_type": "code",
   "execution_count": 5,
   "metadata": {},
   "outputs": [],
   "source": [
    "gdf = pickle.load(open('/home/osboxes/proj/twitter/trackRetraites/graphdf.pkl', 'rb'))\n",
    "filename = '/home/osboxes/proj/twitter/retraite.data'"
   ]
  },
  {
   "cell_type": "code",
   "execution_count": 6,
   "metadata": {},
   "outputs": [],
   "source": [
    "def RetrieveTweetsFromLastPoint(filename,LineMemorisied):\n",
    "\n",
    "    # Initialisation\n",
    "    maliste = []\n",
    "    errors = 0\n",
    "    ntweets = 0\n",
    "    \n",
    "    # Read New Tweets\n",
    "    with open(filename) as fp:\n",
    "        for line in fp:\n",
    "            ntweets = ntweets + 1 \n",
    "            if ntweets > LineMemorisied:\n",
    "                try:\n",
    "                    maliste.append(literal_eval(line))\n",
    "                except:\n",
    "                    errors = errors + 1\n",
    "\n",
    "    return maliste,errors,ntweets,LineMemorisied"
   ]
  },
  {
   "cell_type": "code",
   "execution_count": 7,
   "metadata": {},
   "outputs": [],
   "source": [
    "maliste,NewErrors,NewNtweets,NewLineMemorisied = RetrieveTweetsFromLastPoint(filename,0)"
   ]
  },
  {
   "cell_type": "code",
   "execution_count": 8,
   "metadata": {},
   "outputs": [],
   "source": [
    "tdf = pd.DataFrame(maliste)"
   ]
  },
  {
   "cell_type": "code",
   "execution_count": 9,
   "metadata": {},
   "outputs": [],
   "source": [
    "a = tdf[[\"USERNAME\",\n",
    "         \"USERID\",\n",
    "         \"USERFOLLOWERS\",\n",
    "         \"USERFNAME\",\n",
    "         \"USERDESCRIPTION\"]].\\\n",
    "rename(columns = {\"USERNAME\" : \"NAME\",\n",
    "                  \"USERID\" : \"ID\",\n",
    "                  \"USERFOLLOWERS\" : \"NFOL\",\n",
    "                  \"USERFNAME\" : \"FNAME\",\n",
    "                  \"USERDESCRIPTION\":\"DESCRIPTION\"})\n",
    "\n",
    "b = tdf[[\"AUTHORNAME\",\n",
    "         \"AUTHORID\",\n",
    "         \"AUTHORFOLLOWERS\",\n",
    "         \"AUTHORFNAME\",\n",
    "         \"AUTHORDESCRIPTION\"]].\\\n",
    "rename(columns = {\"AUTHORNAME\" : \"NAME\",\n",
    "                  \"AUTHORID\" : \"ID\",\n",
    "                  \"AUTHORFOLLOWERS\" :\"NFOL\",\n",
    "                  \"AUTHORFNAME\":\"FNAME\",\n",
    "                  \"AUTHORDESCRIPTION\":\"DESCRIPTION\"})"
   ]
  },
  {
   "cell_type": "code",
   "execution_count": 10,
   "metadata": {},
   "outputs": [],
   "source": [
    "tdf = pd.concat([a,b],axis=0, sort=False)\n",
    "tdf.sort_values(by=\"FNAME\",ascending=False,inplace=True)\n",
    "tdf = tdf.drop_duplicates(subset = [\"ID\"])"
   ]
  },
  {
   "cell_type": "code",
   "execution_count": 11,
   "metadata": {},
   "outputs": [],
   "source": [
    "final = gdf.\\\n",
    "merge(tdf,how=\"left\",left_on=\"A\",right_on=\"ID\",).\\\n",
    "rename(columns = {\"NAME\" : \"ANAME\",\n",
    "                  \"NFOL\":\"ANFOL\",\n",
    "                  \"DESCRIPTION\" : \"ADESCRIPTION\",\"FNAME\":\"AFNAME\"}).drop(columns='ID')\n",
    "\n",
    "final = final.\\\n",
    "merge(tdf,how=\"left\",left_on=\"B\",right_on=\"ID\").\\\n",
    "rename(columns = {\"NAME\" : \"BNAME\",\n",
    "                  \"NFOL\":\"BNFOL\",\n",
    "                  \"DESCRIPTION\" : \"BDESCRIPTION\",\"FNAME\":\"BFNAME\"}).drop(columns=['ID'])\n",
    "\n",
    "final.sort_values(by=\"f\",ascending=False,inplace=True)\n",
    "final = final[final.A != final.B]\n",
    "final.reset_index(drop=True,inplace=True)"
   ]
  },
  {
   "cell_type": "code",
   "execution_count": 12,
   "metadata": {},
   "outputs": [],
   "source": [
    "pickle.dump(final, open('/home/osboxes/proj/twitter/trackRetraites/GraphIdentity.pkl', 'wb'))"
   ]
  },
  {
   "cell_type": "code",
   "execution_count": 13,
   "metadata": {},
   "outputs": [
    {
     "name": "stdout",
     "output_type": "stream",
     "text": [
      "Nombre de links : 25233\n"
     ]
    }
   ],
   "source": [
    "print(\"Nombre de links :\",len(final))"
   ]
  },
  {
   "cell_type": "code",
   "execution_count": 14,
   "metadata": {},
   "outputs": [
    {
     "name": "stdout",
     "output_type": "stream",
     "text": [
      "\n",
      "                    A                   B   f\n",
      "0          2370188558  846479916505944065  50\n",
      "1  846479916505944065           450667485  43\n",
      "2  712706042258407424            60102740  38\n",
      "3          4216727301            60102740  38\n",
      "4          2370188558           197492504  35\n"
     ]
    }
   ],
   "source": [
    "print(\"\")\n",
    "print(final[[\"A\",\"B\",\"f\"]].head())"
   ]
  },
  {
   "cell_type": "code",
   "execution_count": 15,
   "metadata": {},
   "outputs": [],
   "source": [
    "final.to_csv(\"graph.csv\",index=False)"
   ]
  },
  {
   "cell_type": "code",
   "execution_count": null,
   "metadata": {},
   "outputs": [],
   "source": []
  }
 ],
 "metadata": {
  "kernelspec": {
   "display_name": "twitter",
   "language": "python",
   "name": "twitter"
  },
  "language_info": {
   "codemirror_mode": {
    "name": "ipython",
    "version": 3
   },
   "file_extension": ".py",
   "mimetype": "text/x-python",
   "name": "python",
   "nbconvert_exporter": "python",
   "pygments_lexer": "ipython3",
   "version": "3.6.7"
  }
 },
 "nbformat": 4,
 "nbformat_minor": 2
}
