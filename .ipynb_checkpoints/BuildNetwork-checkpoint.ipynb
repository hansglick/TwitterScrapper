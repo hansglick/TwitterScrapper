{
 "cells": [
  {
   "cell_type": "code",
   "execution_count": 353,
   "metadata": {},
   "outputs": [],
   "source": [
    "import pandas as pd\n",
    "import json\n",
    "import pickle\n",
    "import os\n",
    "from ast import literal_eval"
   ]
  },
  {
   "cell_type": "code",
   "execution_count": 391,
   "metadata": {},
   "outputs": [],
   "source": [
    "filename = \"/home/osboxes/proj/twitter/tweets.data\"\n",
    "f = \"%a %b %d %H:%M:%S +0000 %Y\""
   ]
  },
  {
   "cell_type": "code",
   "execution_count": 404,
   "metadata": {},
   "outputs": [],
   "source": [
    "if len(os.listdir(\"/home/osboxes/proj/twitter/track\"))>1:\n",
    "    OldErrors = pickle.load(open('/home/osboxes/proj/twitter/track/errors.pkl', 'rb'))\n",
    "    OldNtweets = pickle.load(open('/home/osboxes/proj/twitter/track/ntweets.pkl', 'rb'))\n",
    "    OldLinksDf = pickle.load(open('/home/osboxes/proj/twitter/track/linksdf.pkl', 'rb'))\n",
    "else:\n",
    "    OldNtweets = -1\n",
    "    OldErrors = 0\n",
    "    OldLinksDf = pd.DataFrame()"
   ]
  },
  {
   "cell_type": "code",
   "execution_count": 393,
   "metadata": {},
   "outputs": [
    {
     "name": "stdout",
     "output_type": "stream",
     "text": [
      "0\n",
      "5811\n",
      "3461\n"
     ]
    }
   ],
   "source": [
    "print(OldErrors)\n",
    "print(OldNtweets)\n",
    "print(len(OldLinksDf))"
   ]
  },
  {
   "cell_type": "code",
   "execution_count": 394,
   "metadata": {},
   "outputs": [],
   "source": [
    "def RetrieveTweetsFromLastPoint(filename,LineMemorisied):\n",
    "\n",
    "    # Initialisation\n",
    "    maliste = []\n",
    "    errors = 0\n",
    "    ntweets = 0\n",
    "    \n",
    "    # Read New Tweets\n",
    "    with open(filename) as fp:\n",
    "        for line in fp:\n",
    "            ntweets = ntweets + 1 \n",
    "            if ntweets > LineMemorisied:\n",
    "                try:\n",
    "                    maliste.append(literal_eval(line))\n",
    "                except:\n",
    "                    errors = errors + 1\n",
    "\n",
    "    return maliste,errors,ntweets,LineMemorisied"
   ]
  },
  {
   "cell_type": "code",
   "execution_count": 395,
   "metadata": {},
   "outputs": [],
   "source": [
    "maliste,NewErrors,NewNtweets,NewLineMemorisied = RetrieveTweetsFromLastPoint(filename,OldNtweets)"
   ]
  },
  {
   "cell_type": "code",
   "execution_count": 396,
   "metadata": {},
   "outputs": [],
   "source": [
    "tweetsdf = pd.DataFrame(maliste)\n",
    "NewLinksDf = tweetsdf[[\"USERID\",\"AUTHORID\",\"TWEETTIMESTAMP\"]][tweetsdf.AUTHORID != \"\"]\n",
    "NewLinksDf.TWEETTIMESTAMP = pd.to_datetime(NewLinksDf.TWEETTIMESTAMP,format = f, errors='ignore')\n",
    "NewLinksDf.TWEETTIMESTAMP = NewLinksDf.TWEETTIMESTAMP.map(lambda a : a.value // 10**9)\n",
    "NewLinksDf = NewLinksDf.groupby('USERID')[['AUTHORID','TWEETTIMESTAMP']].\\\n",
    "apply(lambda x: [tuple(i) for i in x.values]).\\\n",
    "reset_index(name='RT')"
   ]
  },
  {
   "cell_type": "code",
   "execution_count": 397,
   "metadata": {},
   "outputs": [],
   "source": [
    "NewLinksDf = OldLinksDf.append(NewLinksDf)\n",
    "NewLinksDf = NewLinksDf.groupby('USERID').RT.apply(sum).reset_index(name='RT')"
   ]
  },
  {
   "cell_type": "code",
   "execution_count": 398,
   "metadata": {},
   "outputs": [],
   "source": [
    "pickle.dump(NewErrors + OldErrors, open('/home/osboxes/proj/twitter/track/errors.pkl', 'wb'))\n",
    "pickle.dump(NewNtweets, open('/home/osboxes/proj/twitter/track/ntweets.pkl', 'wb'))\n",
    "pickle.dump(NewLinksDf, open('/home/osboxes/proj/twitter/track/linksdf.pkl', 'wb'))"
   ]
  },
  {
   "cell_type": "code",
   "execution_count": null,
   "metadata": {},
   "outputs": [],
   "source": [
    "print(len(NewLinksDf))"
   ]
  },
  {
   "cell_type": "code",
   "execution_count": null,
   "metadata": {},
   "outputs": [],
   "source": []
  }
 ],
 "metadata": {
  "kernelspec": {
   "display_name": "twitter",
   "language": "python",
   "name": "twitter"
  },
  "language_info": {
   "codemirror_mode": {
    "name": "ipython",
    "version": 3
   },
   "file_extension": ".py",
   "mimetype": "text/x-python",
   "name": "python",
   "nbconvert_exporter": "python",
   "pygments_lexer": "ipython3",
   "version": "3.6.7"
  }
 },
 "nbformat": 4,
 "nbformat_minor": 2
}
