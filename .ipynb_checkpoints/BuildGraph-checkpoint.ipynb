{
 "cells": [
  {
   "cell_type": "code",
   "execution_count": 221,
   "metadata": {},
   "outputs": [],
   "source": [
    "import pandas as pd\n",
    "import pickle\n",
    "import itertools\n",
    "from ast import literal_eval"
   ]
  },
  {
   "cell_type": "code",
   "execution_count": 222,
   "metadata": {},
   "outputs": [],
   "source": [
    "gdf = pickle.load(open('/home/osboxes/proj/twitter/track/graphdf.pkl', 'rb'))\n",
    "filename = '/home/osboxes/proj/twitter/tweets.data'"
   ]
  },
  {
   "cell_type": "code",
   "execution_count": 223,
   "metadata": {},
   "outputs": [],
   "source": [
    "def RetrieveTweetsFromLastPoint(filename,LineMemorisied):\n",
    "\n",
    "    # Initialisation\n",
    "    maliste = []\n",
    "    errors = 0\n",
    "    ntweets = 0\n",
    "    \n",
    "    # Read New Tweets\n",
    "    with open(filename) as fp:\n",
    "        for line in fp:\n",
    "            ntweets = ntweets + 1 \n",
    "            if ntweets > LineMemorisied:\n",
    "                try:\n",
    "                    maliste.append(literal_eval(line))\n",
    "                except:\n",
    "                    errors = errors + 1\n",
    "\n",
    "    return maliste,errors,ntweets,LineMemorisied"
   ]
  },
  {
   "cell_type": "code",
   "execution_count": 224,
   "metadata": {},
   "outputs": [],
   "source": [
    "maliste,NewErrors,NewNtweets,NewLineMemorisied = RetrieveTweetsFromLastPoint(filename,0)"
   ]
  },
  {
   "cell_type": "code",
   "execution_count": 225,
   "metadata": {},
   "outputs": [],
   "source": [
    "tdf = pd.DataFrame(maliste)\n",
    "a = tdf[[\"USERNAME\",\"USERID\"]].rename(columns = {\"USERNAME\" : \"NAME\", \"USERID\" : \"ID\"})\n",
    "b = tdf[[\"AUTHORNAME\",\"AUTHORID\"]].rename(columns = {\"AUTHORNAME\" : \"NAME\", \"AUTHORID\" : \"ID\"})\n",
    "tdf = pd.concat([a,b],axis=0, sort=False)\n",
    "tdf = tdf.drop_duplicates()"
   ]
  },
  {
   "cell_type": "code",
   "execution_count": 226,
   "metadata": {},
   "outputs": [],
   "source": [
    "final = gdf.\\\n",
    "merge(tdf,how=\"left\",left_on=\"A\",right_on=\"ID\",).\\\n",
    "rename(columns = {\"NAME\" : \"ANAME\"}).drop(columns='ID')\n",
    "\n",
    "final = final.\\\n",
    "merge(tdf,how=\"left\",left_on=\"B\",right_on=\"ID\").\\\n",
    "rename(columns = {\"NAME\" : \"BNAME\"}).drop(columns=['ID'])\n",
    "\n",
    "final.sort_values(by=\"f\",ascending=False,inplace=True)\n",
    "final = final[final.A != final.B]\n",
    "final.reset_index(drop=True,inplace=True)"
   ]
  },
  {
   "cell_type": "code",
   "execution_count": 227,
   "metadata": {},
   "outputs": [],
   "source": [
    "pickle.dump(final, open('/home/osboxes/proj/twitter/track/GraphIdentity.pkl', 'wb'))"
   ]
  },
  {
   "cell_type": "code",
   "execution_count": 228,
   "metadata": {},
   "outputs": [
    {
     "name": "stdout",
     "output_type": "stream",
     "text": [
      "Nombre de links : 2951\n"
     ]
    }
   ],
   "source": [
    "print(\"Nombre de links :\",len(final))"
   ]
  },
  {
   "cell_type": "code",
   "execution_count": 230,
   "metadata": {},
   "outputs": [
    {
     "name": "stdout",
     "output_type": "stream",
     "text": [
      "\n",
      "<bound method NDFrame.head of                         A                    B   f\n",
      "200   1121856729787043842             33962372  16\n",
      "1356             33962372  1121856729787043842  16\n",
      "2129   727425382169849856   827151086733635584  15\n",
      "2408   827151086733635584  1121856729787043842  14\n",
      "2137   727425382169849856   901893722857766912  14\n",
      "...                   ...                  ...  ..\n",
      "1135            299956751   869967847329550344   1\n",
      "1136           3007925428  1034814692001292288   1\n",
      "1137           3007925428  1135207190619463681   1\n",
      "1138           3007925428           4820481910   1\n",
      "3010   996378340331261952           2877116435   1\n",
      "\n",
      "[2951 rows x 3 columns]>\n"
     ]
    }
   ],
   "source": [
    "print(\"\")\n",
    "print(final[[\"A\",\"B\",\"f\"]].head)"
   ]
  },
  {
   "cell_type": "code",
   "execution_count": null,
   "metadata": {},
   "outputs": [],
   "source": []
  }
 ],
 "metadata": {
  "kernelspec": {
   "display_name": "twitter",
   "language": "python",
   "name": "twitter"
  },
  "language_info": {
   "codemirror_mode": {
    "name": "ipython",
    "version": 3
   },
   "file_extension": ".py",
   "mimetype": "text/x-python",
   "name": "python",
   "nbconvert_exporter": "python",
   "pygments_lexer": "ipython3",
   "version": "3.6.7"
  }
 },
 "nbformat": 4,
 "nbformat_minor": 2
}
